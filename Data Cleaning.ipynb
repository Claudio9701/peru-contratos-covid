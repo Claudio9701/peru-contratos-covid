{
 "cells": [
  {
   "cell_type": "code",
   "execution_count": 1,
   "metadata": {},
   "outputs": [],
   "source": [
    "import pandas as pd\n",
    "import numpy as np\n",
    "import geopandas as gpd\n",
    "import networkx as nx\n",
    "import matplotlib.pyplot as plt"
   ]
  },
  {
   "cell_type": "code",
   "execution_count": 2,
   "metadata": {},
   "outputs": [],
   "source": [
    "df = pd.read_csv('inputs/CONOSCE_CONTRATACIONDIRECTA.csv')"
   ]
  },
  {
   "cell_type": "code",
   "execution_count": 3,
   "metadata": {},
   "outputs": [
    {
     "data": {
      "text/plain": [
       "Index(['CODIGOENTIDAD', 'RUC_ENTIDAD', 'ENTIDAD', 'ENTIDAD_DEPARTAMENTO',\n",
       "       'ENTIDAD_PROVINCIA', 'ENTIDAD_DISTRITO', 'FECHACONVOCATORIA',\n",
       "       'OBJETOCONTRACTUAL', 'PROCESO', 'CODIGOCONVOCATORIA',\n",
       "       'DESCRIPCION_PROCESO', 'NUMERO_ITEM', 'ITEMCONVOCA_DESCRIPCION',\n",
       "       'ITEMCONVOCA_UNIDADMEDIDA', 'SECTOR', 'TIPOENTIDADOEE', 'TIPOPROCESO',\n",
       "       'ITEM_DEPARTAMENTO', 'ITEM_PROVINCIA', 'ITEM_DISTRITO',\n",
       "       'ESTADOITEMCONVOCA', 'ULTIMO', 'MONEDA', 'CAUSAL_EXOR_CONT_DIRECTA',\n",
       "       'MONTOREFERENCIAL', 'MONTOREFERENCIALSOLES', 'MONTOADJUDICADO',\n",
       "       'MONTOADJUDICADOSOLES', 'CANTIDADADJUDICADA', 'TIPOPROVEEDOR',\n",
       "       'RUCPROVEEDOR', 'PROVEEDOR', 'RUCDETALLEPROVEEDOR', 'DETALLEPROVEEDOR',\n",
       "       'URLFICHAPROCESO', 'RUBROS'],\n",
       "      dtype='object')"
      ]
     },
     "execution_count": 3,
     "metadata": {},
     "output_type": "execute_result"
    }
   ],
   "source": [
    "df.columns"
   ]
  },
  {
   "cell_type": "code",
   "execution_count": 4,
   "metadata": {},
   "outputs": [
    {
     "name": "stdout",
     "output_type": "stream",
     "text": [
      "<class 'pandas.core.frame.DataFrame'>\n",
      "RangeIndex: 8946 entries, 0 to 8945\n",
      "Data columns (total 36 columns):\n",
      " #   Column                    Non-Null Count  Dtype  \n",
      "---  ------                    --------------  -----  \n",
      " 0   CODIGOENTIDAD             8946 non-null   int64  \n",
      " 1   RUC_ENTIDAD               8946 non-null   int64  \n",
      " 2   ENTIDAD                   8946 non-null   object \n",
      " 3   ENTIDAD_DEPARTAMENTO      8946 non-null   object \n",
      " 4   ENTIDAD_PROVINCIA         8946 non-null   object \n",
      " 5   ENTIDAD_DISTRITO          8946 non-null   object \n",
      " 6   FECHACONVOCATORIA         8946 non-null   object \n",
      " 7   OBJETOCONTRACTUAL         8946 non-null   object \n",
      " 8   PROCESO                   8946 non-null   object \n",
      " 9   CODIGOCONVOCATORIA        8946 non-null   int64  \n",
      " 10  DESCRIPCION_PROCESO       8946 non-null   object \n",
      " 11  NUMERO_ITEM               8946 non-null   int64  \n",
      " 12  ITEMCONVOCA_DESCRIPCION   8946 non-null   object \n",
      " 13  ITEMCONVOCA_UNIDADMEDIDA  8946 non-null   object \n",
      " 14  SECTOR                    8946 non-null   object \n",
      " 15  TIPOENTIDADOEE            8946 non-null   object \n",
      " 16  TIPOPROCESO               8946 non-null   object \n",
      " 17  ITEM_DEPARTAMENTO         8927 non-null   object \n",
      " 18  ITEM_PROVINCIA            8927 non-null   object \n",
      " 19  ITEM_DISTRITO             8927 non-null   object \n",
      " 20  ESTADOITEMCONVOCA         8946 non-null   object \n",
      " 21  ULTIMO                    8946 non-null   object \n",
      " 22  MONEDA                    8946 non-null   object \n",
      " 23  CAUSAL_EXOR_CONT_DIRECTA  8946 non-null   object \n",
      " 24  MONTOREFERENCIAL          8946 non-null   float64\n",
      " 25  MONTOREFERENCIALSOLES     8946 non-null   float64\n",
      " 26  MONTOADJUDICADO           8946 non-null   float64\n",
      " 27  MONTOADJUDICADOSOLES      8946 non-null   float64\n",
      " 28  CANTIDADADJUDICADA        8946 non-null   float64\n",
      " 29  TIPOPROVEEDOR             8946 non-null   object \n",
      " 30  RUCPROVEEDOR              8946 non-null   int64  \n",
      " 31  PROVEEDOR                 8941 non-null   object \n",
      " 32  RUCDETALLEPROVEEDOR       257 non-null    float64\n",
      " 33  DETALLEPROVEEDOR          255 non-null    object \n",
      " 34  URLFICHAPROCESO           8946 non-null   object \n",
      " 35  RUBROS                    8946 non-null   object \n",
      "dtypes: float64(6), int64(5), object(25)\n",
      "memory usage: 2.5+ MB\n"
     ]
    }
   ],
   "source": [
    "df.info()"
   ]
  },
  {
   "cell_type": "code",
   "execution_count": 5,
   "metadata": {},
   "outputs": [
    {
     "data": {
      "text/plain": [
       "count                       8946\n",
       "unique                      1788\n",
       "top       SEGURO SOCIAL DE SALUD\n",
       "freq                         648\n",
       "Name: ENTIDAD, dtype: object"
      ]
     },
     "execution_count": 5,
     "metadata": {},
     "output_type": "execute_result"
    }
   ],
   "source": [
    "df['ENTIDAD'].describe()"
   ]
  },
  {
   "cell_type": "code",
   "execution_count": 6,
   "metadata": {},
   "outputs": [
    {
     "data": {
      "text/plain": [
       "(1788,)"
      ]
     },
     "execution_count": 6,
     "metadata": {},
     "output_type": "execute_result"
    }
   ],
   "source": [
    "df['RUC_ENTIDAD'].unique().shape"
   ]
  },
  {
   "cell_type": "code",
   "execution_count": 7,
   "metadata": {},
   "outputs": [
    {
     "data": {
      "text/plain": [
       "count                                                8941\n",
       "unique                                               3927\n",
       "top       L & M MEDICAL SUPPLIES SOCIEDAD ANONIMA CERRADA\n",
       "freq                                                   71\n",
       "Name: PROVEEDOR, dtype: object"
      ]
     },
     "execution_count": 7,
     "metadata": {},
     "output_type": "execute_result"
    }
   ],
   "source": [
    "df['PROVEEDOR'].describe()"
   ]
  },
  {
   "cell_type": "code",
   "execution_count": 8,
   "metadata": {},
   "outputs": [
    {
     "data": {
      "text/plain": [
       "(3933,)"
      ]
     },
     "execution_count": 8,
     "metadata": {},
     "output_type": "execute_result"
    }
   ],
   "source": [
    "df['RUCPROVEEDOR'].unique().shape"
   ]
  },
  {
   "cell_type": "code",
   "execution_count": 12,
   "metadata": {},
   "outputs": [],
   "source": [
    "departamentos = gpd.read_file('inputs/DEPARTAMENTOS/')"
   ]
  },
  {
   "cell_type": "code",
   "execution_count": 13,
   "metadata": {},
   "outputs": [],
   "source": [
    "pob_x_departamentos = pd.read_csv('inputs/pob_x_departamento.csv')"
   ]
  },
  {
   "cell_type": "code",
   "execution_count": 14,
   "metadata": {},
   "outputs": [],
   "source": [
    "pob_x_departamentos['DEPARTAMEN'] = pob_x_departamentos['Departamento'].str.normalize('NFKD')\\\n",
    "    .str.encode('ascii', errors='ignore')\\\n",
    "    .str.decode('utf-8')\\\n",
    "    .str.upper()"
   ]
  },
  {
   "cell_type": "code",
   "execution_count": 15,
   "metadata": {},
   "outputs": [],
   "source": [
    "dept_con_pob = pd.merge(\n",
    "    pob_x_departamentos,\n",
    "    departamentos,\n",
    "    on='DEPARTAMEN'\n",
    ")"
   ]
  },
  {
   "cell_type": "code",
   "execution_count": 16,
   "metadata": {},
   "outputs": [],
   "source": [
    "dept_con_pob_geo = pd.merge(\n",
    "    dept_con_pob,\n",
    "    df.groupby('ENTIDAD_DEPARTAMENTO')['MONTOADJUDICADO'].sum(),\n",
    "    left_on='DEPARTAMEN',\n",
    "    right_index=True,\n",
    ")"
   ]
  },
  {
   "cell_type": "code",
   "execution_count": 17,
   "metadata": {},
   "outputs": [],
   "source": [
    "dept_con_pob_geo['Poblacion Estimada 2020'] = dept_con_pob_geo['Población Estimado 2020'].str.replace(' ', '').astype(int)"
   ]
  },
  {
   "cell_type": "code",
   "execution_count": 18,
   "metadata": {},
   "outputs": [],
   "source": [
    "dept_con_pob_geo['Monto Per Capita'] = dept_con_pob_geo['MONTOADJUDICADO'] / dept_con_pob_geo['Poblacion Estimada 2020']"
   ]
  },
  {
   "cell_type": "code",
   "execution_count": 23,
   "metadata": {},
   "outputs": [],
   "source": [
    "dept_con_pob_geo['Densidad 2017 (hab/km²)'] = dept_con_pob_geo['Densidad\\n2017 (hab/km²)'].str.replace(',', '.').astype(float)"
   ]
  },
  {
   "cell_type": "code",
   "execution_count": 26,
   "metadata": {},
   "outputs": [],
   "source": [
    "dept_con_pob_geo['Superficie (km²)'] = dept_con_pob_geo['Superficie\\n(km²)'].str.replace(' ', '').str.replace(',', '.').astype(float)"
   ]
  },
  {
   "cell_type": "code",
   "execution_count": 27,
   "metadata": {},
   "outputs": [],
   "source": [
    "dept_con_pob_geo = gpd.GeoDataFrame(dept_con_pob_geo)"
   ]
  },
  {
   "cell_type": "code",
   "execution_count": 28,
   "metadata": {},
   "outputs": [
    {
     "data": {
      "text/plain": [
       "<Geographic 2D CRS: EPSG:4326>\n",
       "Name: WGS 84\n",
       "Axis Info [ellipsoidal]:\n",
       "- Lat[north]: Geodetic latitude (degree)\n",
       "- Lon[east]: Geodetic longitude (degree)\n",
       "Area of Use:\n",
       "- name: World.\n",
       "- bounds: (-180.0, -90.0, 180.0, 90.0)\n",
       "Datum: World Geodetic System 1984\n",
       "- Ellipsoid: WGS 84\n",
       "- Prime Meridian: Greenwich"
      ]
     },
     "execution_count": 28,
     "metadata": {},
     "output_type": "execute_result"
    }
   ],
   "source": [
    "dept_con_pob_geo.crs"
   ]
  },
  {
   "cell_type": "code",
   "execution_count": 29,
   "metadata": {},
   "outputs": [
    {
     "data": {
      "text/plain": [
       "<AxesSubplot:>"
      ]
     },
     "execution_count": 29,
     "metadata": {},
     "output_type": "execute_result"
    },
    {
     "data": {
      "image/png": "[encoded data removed]",
      "text/plain": [
       "<Figure size 432x288 with 1 Axes>"
      ]
     },
     "metadata": {
      "needs_background": "light"
     },
     "output_type": "display_data"
    }
   ],
   "source": [
    "dept_con_pob_geo.plot('Monto Per Capita')"
   ]
  },
  {
   "cell_type": "code",
   "execution_count": 30,
   "metadata": {},
   "outputs": [
    {
     "data": {
      "text/plain": [
       "Index(['Departamento', 'Superficie\\n(km²)', 'Población Censo 2017',\n",
       "       'Población Estimado 2020', 'Densidad\\n2017 (hab/km²)', 'DEPARTAMEN',\n",
       "       'IDDPTO', 'CAPITAL', 'FUENTE', 'geometry', 'MONTOADJUDICADO',\n",
       "       'Poblacion Estimada 2020', 'Monto Per Capita',\n",
       "       'Densidad 2017 (hab/km²)', 'Superficie (km²)'],\n",
       "      dtype='object')"
      ]
     },
     "execution_count": 30,
     "metadata": {},
     "output_type": "execute_result"
    }
   ],
   "source": [
    "dept_con_pob_geo.columns"
   ]
  },
  {
   "cell_type": "code",
   "execution_count": 31,
   "metadata": {},
   "outputs": [],
   "source": [
    "dept_con_pob_geo['Monto Adjudicado'] = dept_con_pob_geo['MONTOADJUDICADO']"
   ]
  },
  {
   "cell_type": "code",
   "execution_count": 35,
   "metadata": {},
   "outputs": [],
   "source": [
    "dept_con_pob_geo['Departamento'] = dept_con_pob_geo['DEPARTAMEN']"
   ]
  },
  {
   "cell_type": "code",
   "execution_count": 36,
   "metadata": {},
   "outputs": [],
   "source": [
    "selected_vars = ['Departamento', 'Poblacion Estimada 2020', 'Superficie (km²)', 'Densidad 2017 (hab/km²)', 'Monto Adjudicado', 'Monto Per Capita', 'geometry',]"
   ]
  },
  {
   "cell_type": "code",
   "execution_count": 37,
   "metadata": {},
   "outputs": [],
   "source": [
    "dept_con_pob_geo[selected_vars].to_file('inputs/departamentos.geojson', driver='GeoJSON')"
   ]
  },
  {
   "cell_type": "code",
   "execution_count": null,
   "metadata": {},
   "outputs": [],
   "source": []
  }
 ],
 "metadata": {
  "kernelspec": {
   "display_name": "Python 3",
   "language": "python",
   "name": "python3"
  },
  "language_info": {
   "codemirror_mode": {
    "name": "ipython",
    "version": 3
   },
   "file_extension": ".py",
   "mimetype": "text/x-python",
   "name": "python",
   "nbconvert_exporter": "python",
   "pygments_lexer": "ipython3",
   "version": "3.7.5"
  }
 },
 "nbformat": 4,
 "nbformat_minor": 4
}
